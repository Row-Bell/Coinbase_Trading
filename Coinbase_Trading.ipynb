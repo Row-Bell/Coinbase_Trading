{
 "cells": [
  {
   "cell_type": "markdown",
   "metadata": {},
   "source": [
    "# COINBASE PRO API CODE"
   ]
  },
  {
   "cell_type": "code",
   "execution_count": 2,
   "metadata": {},
   "outputs": [],
   "source": [
    "#Initial Imports\n",
    "import os\n",
    "import pandas as pd\n",
    "from dotenv import load_dotenv\n",
    "import cbpro\n",
    "%matplotlib inline"
   ]
  },
  {
   "cell_type": "code",
   "execution_count": 3,
   "metadata": {},
   "outputs": [
    {
     "data": {
      "text/plain": [
       "True"
      ]
     },
     "execution_count": 3,
     "metadata": {},
     "output_type": "execute_result"
    }
   ],
   "source": [
    "#load .env environment variables\n",
    "load_dotenv()"
   ]
  },
  {
   "cell_type": "code",
   "execution_count": 6,
   "metadata": {},
   "outputs": [],
   "source": [
    "#Set Alpaca API Key and secret\n",
    "coinbase_api_key = os.getenv(\"COINBASE_API_KEY\")\n",
    "coinbase_secret_key = os.getenv(\"COINBASE_SECRET_KEY\")\n",
    "coinbase_pass_phrase = os.getenv(\"COINBASE_PASS_PHRASE\")\n",
    "\n",
    "\n",
    "#set the paper trading url\n",
    "base_url = \"\""
   ]
  },
  {
   "cell_type": "code",
   "execution_count": 7,
   "metadata": {},
   "outputs": [
    {
     "name": "stdout",
     "output_type": "stream",
     "text": [
      "8bee6d8bbd3a8e73a06c8d8579882218 qdZ+Qd1iv49ft3LL62qTxd/JZgWCvPT20Ngrght4W5MHY29if+DiqKJLWYmIJewxdY64AgqkHJGq3YXUAdmUfQ== pnc3nk2kol\n"
     ]
    }
   ],
   "source": [
    "print(coinbase_api_key,coinbase_secret_key,coinbase_pass_phrase)"
   ]
  },
  {
   "cell_type": "markdown",
   "metadata": {},
   "source": [
    "# WebsocketClient Class\n",
    "Here we inherit from the WebsocketClient c;asss and overlaod methos on_open(), on_message(), and on_close()"
   ]
  },
  {
   "cell_type": "code",
   "execution_count": null,
   "metadata": {},
   "outputs": [],
   "source": [
    "class TextWebsocketClient(cbpro.WebsocketClient):\n",
    "    def on_open(self):\n",
    "        "
   ]
  }
 ],
 "metadata": {
  "kernelspec": {
   "display_name": "Python 3",
   "language": "python",
   "name": "python3"
  },
  "language_info": {
   "codemirror_mode": {
    "name": "ipython",
    "version": 3
   },
   "file_extension": ".py",
   "mimetype": "text/x-python",
   "name": "python",
   "nbconvert_exporter": "python",
   "pygments_lexer": "ipython3",
   "version": "3.7.9"
  }
 },
 "nbformat": 4,
 "nbformat_minor": 4
}
