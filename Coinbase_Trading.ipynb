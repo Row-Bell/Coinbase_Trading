{
 "cells": [
  {
   "cell_type": "markdown",
   "metadata": {},
   "source": [
    "# COINBASE PRO API CODE"
   ]
  },
  {
   "cell_type": "code",
   "execution_count": 1,
   "metadata": {},
   "outputs": [],
   "source": [
    "#Initial Imports\n",
    "import os\n",
    "import pandas as pd\n",
    "from dotenv import load_dotenv\n",
    "import cbpro\n",
    "%matplotlib inline"
   ]
  },
  {
   "cell_type": "code",
   "execution_count": 2,
   "metadata": {},
   "outputs": [
    {
     "data": {
      "text/plain": [
       "True"
      ]
     },
     "execution_count": 2,
     "metadata": {},
     "output_type": "execute_result"
    }
   ],
   "source": [
    "#load .env environment variables\n",
    "load_dotenv()"
   ]
  },
  {
   "cell_type": "code",
   "execution_count": 20,
   "metadata": {},
   "outputs": [],
   "source": [
    "#Set Alpaca API Key and secret\n",
    "coinbase_api_key = os.getenv(\"COINBASE_API_KEY\")\n",
    "coinbase_secret_key = os.getenv(\"COINBASE_SECRET_KEY\")\n",
    "coinbase_pass_phrase = os.getenv(\"COINBASE_PASS_PHRASE\")\n",
    "\n",
    "\n",
    "#set the paper trading url\n",
    "base_url = \"https://api.pro.coinbase.com\""
   ]
  },
  {
   "cell_type": "code",
   "execution_count": 21,
   "metadata": {},
   "outputs": [
    {
     "name": "stdout",
     "output_type": "stream",
     "text": [
      "8bee6d8bbd3a8e73a06c8d8579882218 qdZ+Qd1iv49ft3LL62qTxd/JZgWCvPT20Ngrght4W5MHY29if+DiqKJLWYmIJewxdY64AgqkHJGq3YXUAdmUfQ== pnc3nk2kol\n"
     ]
    }
   ],
   "source": [
    "print(coinbase_api_key,coinbase_secret_key,coinbase_pass_phrase)"
   ]
  },
  {
   "cell_type": "code",
   "execution_count": 65,
   "metadata": {},
   "outputs": [
    {
     "data": {
      "text/plain": [
       "{'message': 'NotFound'}"
      ]
     },
     "execution_count": 65,
     "metadata": {},
     "output_type": "execute_result"
    }
   ],
   "source": [
    "client = cbpro.AuthenticatedClient(\n",
    "    coinbase_api_key,\n",
    "    coinbase_secret_key,\n",
    "    coinbase_pass_phrase,\n",
    "    base_url\n",
    ")\n",
    "\n",
    "client\n",
    "\n",
    "ACCOUNT = client.get_accounts()\n",
    "ACCOUNT\n",
    "\n",
    "ACCOUNT_Coinbase = client.get_coinbase_accounts()\n",
    "ACCOUNT_Coinbase[0]['balance']\n",
    "\n",
    "myWallet = []\n",
    "\n",
    "for currency in ACCOUNT_Coinbase:\n",
    "    if float(currency['balance']) != float('0.00000000'):\n",
    "        myWallet.append(currency)\n",
    "        #print(currency)\n",
    "        \n",
    "myWallet\n",
    "currency = myWallet[0]['currency']\n",
    "\n",
    "currencies = client.get_currencies()\n",
    "LINK_price\n",
    "time = client.get_time()\n",
    "time\n",
    "#LINK_PRICE = client.get_product_candles(time,time,60)\n",
    "product_id = client.get_product_historic_rates('LINK-US')\n",
    "#for i in product_id:\n",
    "#   if i['base_currency'] == 'LINK':\n",
    "#        LINK_id = i['id']\n",
    "\n",
    "product_id        \n",
    "#for currency in myWallet:\n",
    "    "
   ]
  },
  {
   "cell_type": "markdown",
   "metadata": {},
   "source": [
    "# WebsocketClient Class\n",
    "Here we inherit from the WebsocketClient c;asss and overlaod methos on_open(), on_message(), and on_close()"
   ]
  },
  {
   "cell_type": "code",
   "execution_count": 5,
   "metadata": {},
   "outputs": [
    {
     "ename": "SyntaxError",
     "evalue": "unexpected EOF while parsing (<ipython-input-5-ee6a8f38b8b4>, line 3)",
     "output_type": "error",
     "traceback": [
      "\u001b[1;36m  File \u001b[1;32m\"<ipython-input-5-ee6a8f38b8b4>\"\u001b[1;36m, line \u001b[1;32m3\u001b[0m\n\u001b[1;33m    \u001b[0m\n\u001b[1;37m    ^\u001b[0m\n\u001b[1;31mSyntaxError\u001b[0m\u001b[1;31m:\u001b[0m unexpected EOF while parsing\n"
     ]
    }
   ],
   "source": [
    "class TextWebsocketClient(cbpro.WebsocketClient):\n",
    "    def on_open(self):\n",
    "        "
   ]
  },
  {
   "cell_type": "code",
   "execution_count": null,
   "metadata": {},
   "outputs": [],
   "source": []
  }
 ],
 "metadata": {
  "kernelspec": {
   "display_name": "Python 3",
   "language": "python",
   "name": "python3"
  },
  "language_info": {
   "codemirror_mode": {
    "name": "ipython",
    "version": 3
   },
   "file_extension": ".py",
   "mimetype": "text/x-python",
   "name": "python",
   "nbconvert_exporter": "python",
   "pygments_lexer": "ipython3",
   "version": "3.7.9"
  }
 },
 "nbformat": 4,
 "nbformat_minor": 4
}
