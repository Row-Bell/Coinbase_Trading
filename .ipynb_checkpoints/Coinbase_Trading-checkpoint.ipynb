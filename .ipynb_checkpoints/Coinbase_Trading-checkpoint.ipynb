{
 "cells": [
  {
   "cell_type": "markdown",
   "metadata": {},
   "source": [
    "# COINBASE PRO API CODE"
   ]
  },
  {
   "cell_type": "code",
   "execution_count": 1,
   "metadata": {},
   "outputs": [],
   "source": [
    "#Initial Imports\n",
    "import os\n",
    "import pandas as pd\n",
    "from dotenv import load_dotenv\n",
    "import cbpro\n",
    "%matplotlib inline"
   ]
  },
  {
   "cell_type": "code",
   "execution_count": 2,
   "metadata": {},
   "outputs": [
    {
     "data": {
      "text/plain": [
       "True"
      ]
     },
     "execution_count": 2,
     "metadata": {},
     "output_type": "execute_result"
    }
   ],
   "source": [
    "#load .env environment variables\n",
    "load_dotenv()"
   ]
  },
  {
   "cell_type": "code",
   "execution_count": 20,
   "metadata": {},
   "outputs": [],
   "source": [
    "#Set Alpaca API Key and secret\n",
    "coinbase_api_key = os.getenv(\"COINBASE_API_KEY\")\n",
    "coinbase_secret_key = os.getenv(\"COINBASE_SECRET_KEY\")\n",
    "coinbase_pass_phrase = os.getenv(\"COINBASE_PASS_PHRASE\")\n",
    "\n",
    "\n",
    "#set the paper trading url\n",
    "base_url = \"https://api.pro.coinbase.com\""
   ]
  },
  {
   "cell_type": "code",
   "execution_count": 21,
   "metadata": {},
   "outputs": [
    {
     "name": "stdout",
     "output_type": "stream",
     "text": [
      "8bee6d8bbd3a8e73a06c8d8579882218 qdZ+Qd1iv49ft3LL62qTxd/JZgWCvPT20Ngrght4W5MHY29if+DiqKJLWYmIJewxdY64AgqkHJGq3YXUAdmUfQ== pnc3nk2kol\n"
     ]
    }
   ],
   "source": [
    "print(coinbase_api_key,coinbase_secret_key,coinbase_pass_phrase)"
   ]
  },
  {
   "cell_type": "code",
   "execution_count": 66,
   "metadata": {},
   "outputs": [
    {
     "data": {
      "text/plain": [
       "{'message': 'NotFound'}"
      ]
     },
     "execution_count": 66,
     "metadata": {},
     "output_type": "execute_result"
    }
   ],
   "source": [
    "client = cbpro.AuthenticatedClient(\n",
    "    coinbase_api_key,\n",
    "    coinbase_secret_key,\n",
    "    coinbase_pass_phrase,\n",
    "    base_url\n",
    ")\n",
    "\n",
    "client\n",
    "\n",
    "ACCOUNT = client.get_accounts()\n",
    "ACCOUNT\n",
    "\n",
    "ACCOUNT_Coinbase = client.get_coinbase_accounts()\n",
    "ACCOUNT_Coinbase[0]['balance']\n",
    "\n",
    "myWallet = []\n",
    "\n",
    "for currency in ACCOUNT_Coinbase:\n",
    "    if float(currency['balance']) != float('0.00000000'):\n",
    "        myWallet.append(currency)\n",
    "        #print(currency)\n",
    "        \n",
    "myWallet\n",
    "currency = myWallet[0]['currency']\n",
    "\n",
    "currencies = client.get_currencies()\n",
    "LINK_price\n",
    "time = client.get_time()\n",
    "time\n",
    "#LINK_PRICE = client.get_product_candles(time,time,60)\n",
    "product_id = client.get_product_historic_rates('LINK-US')\n",
    "#for i in product_id:\n",
    "#   if i['base_currency'] == 'LINK':\n",
    "#        LINK_id = i['id']\n",
    "\n",
    "product_id        \n",
    "#for currency in myWallet:\n",
    "    "
   ]
  },
  {
   "cell_type": "markdown",
   "metadata": {},
   "source": [
    "# WebsocketClient Class\n",
    "Here we inherit from the WebsocketClient c;asss and overlaod methos on_open(), on_message(), and on_close()"
   ]
  },
  {
   "cell_type": "code",
   "execution_count": null,
   "metadata": {},
   "outputs": [
    {
     "name": "stderr",
     "output_type": "stream",
     "text": [
      "error from callback <function on_message at 0x000002EF34D76168>: 'time'\n",
      "error from callback <function on_message at 0x000002EF34D76168>: name 'current_candlesticks' is not defined\n",
      "error from callback <function on_message at 0x000002EF34D76168>: name 'current_candlesticks' is not defined\n"
     ]
    },
    {
     "name": "stdout",
     "output_type": "stream",
     "text": [
      "open connection...\n",
      "starting new candle stick\n",
      "{'02/22/2021 21:57': True}\n"
     ]
    },
    {
     "name": "stderr",
     "output_type": "stream",
     "text": [
      "error from callback <function on_message at 0x000002EF34D76168>: name 'current_candlesticks' is not defined\n",
      "error from callback <function on_message at 0x000002EF34D76168>: name 'current_candlesticks' is not defined\n",
      "error from callback <function on_message at 0x000002EF34D76168>: name 'current_candlesticks' is not defined\n",
      "error from callback <function on_message at 0x000002EF34D76168>: name 'current_candlesticks' is not defined\n",
      "error from callback <function on_message at 0x000002EF34D76168>: name 'current_candlesticks' is not defined\n",
      "error from callback <function on_message at 0x000002EF34D76168>: name 'current_candlesticks' is not defined\n",
      "error from callback <function on_message at 0x000002EF34D76168>: name 'current_candlesticks' is not defined\n",
      "error from callback <function on_message at 0x000002EF34D76168>: name 'current_candlesticks' is not defined\n",
      "error from callback <function on_message at 0x000002EF34D76168>: name 'current_candlesticks' is not defined\n",
      "error from callback <function on_message at 0x000002EF34D76168>: name 'current_candlesticks' is not defined\n",
      "error from callback <function on_message at 0x000002EF34D76168>: name 'current_candlesticks' is not defined\n",
      "error from callback <function on_message at 0x000002EF34D76168>: name 'current_candlesticks' is not defined\n",
      "error from callback <function on_message at 0x000002EF34D76168>: name 'current_candlesticks' is not defined\n",
      "error from callback <function on_message at 0x000002EF34D76168>: name 'current_candlesticks' is not defined\n",
      "error from callback <function on_message at 0x000002EF34D76168>: name 'current_candlesticks' is not defined\n",
      "error from callback <function on_message at 0x000002EF34D76168>: name 'current_candlesticks' is not defined\n",
      "error from callback <function on_message at 0x000002EF34D76168>: name 'current_candlesticks' is not defined\n",
      "error from callback <function on_message at 0x000002EF34D76168>: name 'current_candlesticks' is not defined\n",
      "error from callback <function on_message at 0x000002EF34D76168>: name 'current_candlesticks' is not defined\n",
      "error from callback <function on_message at 0x000002EF34D76168>: name 'current_candlesticks' is not defined\n",
      "error from callback <function on_message at 0x000002EF34D76168>: name 'current_candlesticks' is not defined\n",
      "error from callback <function on_message at 0x000002EF34D76168>: name 'current_candlesticks' is not defined\n",
      "error from callback <function on_message at 0x000002EF34D76168>: name 'current_candlesticks' is not defined\n",
      "error from callback <function on_message at 0x000002EF34D76168>: name 'current_candlesticks' is not defined\n",
      "error from callback <function on_message at 0x000002EF34D76168>: name 'current_candlesticks' is not defined\n",
      "error from callback <function on_message at 0x000002EF34D76168>: name 'current_candlesticks' is not defined\n",
      "error from callback <function on_message at 0x000002EF34D76168>: name 'current_candlesticks' is not defined\n",
      "error from callback <function on_message at 0x000002EF34D76168>: name 'current_candlesticks' is not defined\n",
      "error from callback <function on_message at 0x000002EF34D76168>: name 'current_candlesticks' is not defined\n",
      "error from callback <function on_message at 0x000002EF34D76168>: name 'current_candlesticks' is not defined\n",
      "error from callback <function on_message at 0x000002EF34D76168>: name 'current_candlesticks' is not defined\n",
      "error from callback <function on_message at 0x000002EF34D76168>: name 'current_candlesticks' is not defined\n",
      "error from callback <function on_message at 0x000002EF34D76168>: name 'current_candlesticks' is not defined\n",
      "error from callback <function on_message at 0x000002EF34D76168>: name 'current_candlesticks' is not defined\n",
      "error from callback <function on_message at 0x000002EF34D76168>: name 'current_candlesticks' is not defined\n",
      "error from callback <function on_message at 0x000002EF34D76168>: name 'current_candlesticks' is not defined\n",
      "error from callback <function on_message at 0x000002EF34D76168>: name 'current_candlesticks' is not defined\n",
      "error from callback <function on_message at 0x000002EF34D76168>: name 'current_candlesticks' is not defined\n",
      "error from callback <function on_message at 0x000002EF34D76168>: name 'current_candlesticks' is not defined\n",
      "error from callback <function on_message at 0x000002EF34D76168>: name 'current_candlesticks' is not defined\n",
      "error from callback <function on_message at 0x000002EF34D76168>: name 'current_candlesticks' is not defined\n",
      "error from callback <function on_message at 0x000002EF34D76168>: name 'current_candlesticks' is not defined\n",
      "error from callback <function on_message at 0x000002EF34D76168>: name 'current_candlesticks' is not defined\n",
      "error from callback <function on_message at 0x000002EF34D76168>: name 'current_candlesticks' is not defined\n",
      "error from callback <function on_message at 0x000002EF34D76168>: name 'current_candlesticks' is not defined\n",
      "error from callback <function on_message at 0x000002EF34D76168>: name 'current_candlesticks' is not defined\n",
      "error from callback <function on_message at 0x000002EF34D76168>: name 'current_candlesticks' is not defined\n",
      "error from callback <function on_message at 0x000002EF34D76168>: name 'current_candlesticks' is not defined\n",
      "error from callback <function on_message at 0x000002EF34D76168>: name 'current_candlesticks' is not defined\n",
      "error from callback <function on_message at 0x000002EF34D76168>: name 'current_candlesticks' is not defined\n",
      "error from callback <function on_message at 0x000002EF34D76168>: name 'current_candlesticks' is not defined\n",
      "error from callback <function on_message at 0x000002EF34D76168>: name 'current_candlesticks' is not defined\n",
      "error from callback <function on_message at 0x000002EF34D76168>: name 'current_candlesticks' is not defined\n",
      "error from callback <function on_message at 0x000002EF34D76168>: name 'current_candlesticks' is not defined\n",
      "error from callback <function on_message at 0x000002EF34D76168>: name 'current_candlesticks' is not defined\n",
      "error from callback <function on_message at 0x000002EF34D76168>: name 'current_candlesticks' is not defined\n",
      "error from callback <function on_message at 0x000002EF34D76168>: name 'current_candlesticks' is not defined\n",
      "error from callback <function on_message at 0x000002EF34D76168>: name 'current_candlesticks' is not defined\n",
      "error from callback <function on_message at 0x000002EF34D76168>: name 'current_candlesticks' is not defined\n",
      "error from callback <function on_message at 0x000002EF34D76168>: name 'current_candlesticks' is not defined\n",
      "error from callback <function on_message at 0x000002EF34D76168>: name 'current_candlesticks' is not defined\n",
      "error from callback <function on_message at 0x000002EF34D76168>: name 'current_candlesticks' is not defined\n",
      "error from callback <function on_message at 0x000002EF34D76168>: name 'current_candlesticks' is not defined\n",
      "error from callback <function on_message at 0x000002EF34D76168>: name 'current_candlesticks' is not defined\n",
      "error from callback <function on_message at 0x000002EF34D76168>: name 'current_candlesticks' is not defined\n",
      "error from callback <function on_message at 0x000002EF34D76168>: name 'current_candlesticks' is not defined\n",
      "error from callback <function on_message at 0x000002EF34D76168>: name 'current_candlesticks' is not defined\n",
      "error from callback <function on_message at 0x000002EF34D76168>: name 'current_candlesticks' is not defined\n",
      "error from callback <function on_message at 0x000002EF34D76168>: name 'current_candlesticks' is not defined\n",
      "error from callback <function on_message at 0x000002EF34D76168>: name 'current_candlesticks' is not defined\n",
      "error from callback <function on_message at 0x000002EF34D76168>: name 'current_candlesticks' is not defined\n",
      "error from callback <function on_message at 0x000002EF34D76168>: name 'current_candlesticks' is not defined\n",
      "error from callback <function on_message at 0x000002EF34D76168>: name 'current_candlesticks' is not defined\n",
      "error from callback <function on_message at 0x000002EF34D76168>: name 'current_candlesticks' is not defined\n",
      "error from callback <function on_message at 0x000002EF34D76168>: name 'current_candlesticks' is not defined\n",
      "error from callback <function on_message at 0x000002EF34D76168>: name 'current_candlesticks' is not defined\n",
      "error from callback <function on_message at 0x000002EF34D76168>: name 'current_candlesticks' is not defined\n",
      "error from callback <function on_message at 0x000002EF34D76168>: name 'current_candlesticks' is not defined\n",
      "error from callback <function on_message at 0x000002EF34D76168>: name 'current_candlesticks' is not defined\n",
      "error from callback <function on_message at 0x000002EF34D76168>: name 'current_candlesticks' is not defined\n",
      "error from callback <function on_message at 0x000002EF34D76168>: name 'current_candlesticks' is not defined\n",
      "error from callback <function on_message at 0x000002EF34D76168>: name 'current_candlesticks' is not defined\n",
      "error from callback <function on_message at 0x000002EF34D76168>: name 'current_candlesticks' is not defined\n",
      "error from callback <function on_message at 0x000002EF34D76168>: name 'current_candlesticks' is not defined\n",
      "error from callback <function on_message at 0x000002EF34D76168>: name 'current_candlesticks' is not defined\n",
      "error from callback <function on_message at 0x000002EF34D76168>: name 'current_candlesticks' is not defined\n",
      "error from callback <function on_message at 0x000002EF34D76168>: name 'current_candlesticks' is not defined\n",
      "error from callback <function on_message at 0x000002EF34D76168>: name 'current_candlesticks' is not defined\n",
      "error from callback <function on_message at 0x000002EF34D76168>: name 'current_candlesticks' is not defined\n",
      "error from callback <function on_message at 0x000002EF34D76168>: name 'current_candlesticks' is not defined\n",
      "error from callback <function on_message at 0x000002EF34D76168>: name 'current_candlesticks' is not defined\n",
      "error from callback <function on_message at 0x000002EF34D76168>: name 'current_candlesticks' is not defined\n",
      "error from callback <function on_message at 0x000002EF34D76168>: name 'current_candlesticks' is not defined\n"
     ]
    }
   ],
   "source": [
    "import websocket, json\n",
    "import dateutil.parser\n",
    "\n",
    "minutes_processed = {}\n",
    "minute_candlesticks = []\n",
    "current_tick = None\n",
    "previous_tick = None\n",
    "\n",
    "def on_open(ws):\n",
    "    print('open connection...')\n",
    "    \n",
    "    #Establish json payload to coinbase\n",
    "    subscribe_message = {\n",
    "        'type':'subscribe',\n",
    "        'channels':[\n",
    "            {\n",
    "                'name':'ticker',\n",
    "                'product_ids':[\n",
    "                    'BTC-USD'\n",
    "                ]              \n",
    "            }\n",
    "        ]\n",
    "    }\n",
    "    \n",
    "    #send payload over to coinbase\n",
    "    ws.send(json.dumps(subscribe_message))\n",
    "    \n",
    "def on_message(ws, message):\n",
    "    #Bring in gloabal variables\n",
    "    global current_tick, previous_tick, minute_candlesticks\n",
    "    \n",
    "    #assign the previous candle\n",
    "    previous_tick = current_tick\n",
    "    \n",
    "    #Load up the current tick\n",
    "    current_tick = json.loads(message)\n",
    "    #print(\"===Received Tick===\")\n",
    "    #print(f\"{current_tick['time']} @ {current_tick['price']}\")\n",
    "    \n",
    "    #Parse the date and time\n",
    "    tick_datetime_object = dateutil.parser.parse(current_tick['time'])\n",
    "    tick_dt = tick_datetime_object.strftime('%m/%d/%Y %H:%M')\n",
    "    #print(tick_datetime_object.minute)\n",
    "    #print(tick_dt)\n",
    "    \n",
    "    #check if candlestick is in the minutes processed\n",
    "    if not tick_dt in minutes_processed:\n",
    "        print('starting new candle stick')\n",
    "        minutes_processed[tick_dt] = True\n",
    "        print(minutes_processed)\n",
    "        \n",
    "        #append the minute_candlestick\n",
    "        minute_candlesticks.append({\n",
    "            'minute': tick_dt,\n",
    "            'open': current_tick['price'],\n",
    "            'high': current_tick['price'],\n",
    "            'low': current_tick['price'],\n",
    "        })\n",
    "        \n",
    "    if len(minute_candlesticks) > 0:\n",
    "        current_candlestick = minute_candlesticks[-1]\n",
    "        if current_tick['price'] > current_candlesticks['high']:\n",
    "            current_candlesticks['high'] = current_tick['price']\n",
    "        if current_tick['price'] < current_candlesticks['low']:\n",
    "            current_candlesticks['low'] = current_tick['price']\n",
    "            \n",
    "        print('== Candlestick== ')\n",
    "        for candlestick in minute_candlesticks:\n",
    "            print(candlestick)\n",
    "            \n",
    "socket = 'wss://ws-feed.pro.coinbase.com'\n",
    "\n",
    "ws = websocket.WebSocketApp(socket, on_open=on_open, on_message=on_message)\n",
    "ws.run_forever()\n",
    "\n",
    "'''{'type': 'ticker', \n",
    " 'sequence': 21730927867, \n",
    " 'product_id': 'BTC-USD', \n",
    " 'price': '54396.35', \n",
    " 'open_24h': '57370.01', \n",
    " 'volume_24h': '47240.30512552', \n",
    " 'low_24h': '46616', \n",
    " 'high_24h': '57672.49', \n",
    " 'volume_30d': '796037.36679684', \n",
    " 'best_bid': '54396.34', \n",
    " 'best_ask': '54396.35', \n",
    " 'side': 'buy', \n",
    " 'time': '2021-02-22T21:24:00.938010Z', \n",
    " 'trade_id': 136287307, \n",
    " 'last_size': '0.00033861'}'''"
   ]
  },
  {
   "cell_type": "code",
   "execution_count": null,
   "metadata": {},
   "outputs": [],
   "source": []
  },
  {
   "cell_type": "code",
   "execution_count": null,
   "metadata": {},
   "outputs": [],
   "source": []
  }
 ],
 "metadata": {
  "kernelspec": {
   "display_name": "Python 3",
   "language": "python",
   "name": "python3"
  },
  "language_info": {
   "codemirror_mode": {
    "name": "ipython",
    "version": 3
   },
   "file_extension": ".py",
   "mimetype": "text/x-python",
   "name": "python",
   "nbconvert_exporter": "python",
   "pygments_lexer": "ipython3",
   "version": "3.7.9"
  }
 },
 "nbformat": 4,
 "nbformat_minor": 4
}
